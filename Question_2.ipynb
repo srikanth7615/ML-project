{
  "nbformat": 4,
  "nbformat_minor": 0,
  "metadata": {
    "colab": {
      "provenance": [],
      "authorship_tag": "ABX9TyNvH+8OuhIO1EO35gWaVlyH",
      "include_colab_link": true
    },
    "kernelspec": {
      "name": "python3",
      "display_name": "Python 3"
    },
    "language_info": {
      "name": "python"
    }
  },
  "cells": [
    {
      "cell_type": "markdown",
      "metadata": {
        "id": "view-in-github",
        "colab_type": "text"
      },
      "source": [
        "<a href=\"https://colab.research.google.com/github/srikanth7615/ML-project/blob/main/Question_2.ipynb\" target=\"_parent\"><img src=\"https://colab.research.google.com/assets/colab-badge.svg\" alt=\"Open In Colab\"/></a>"
      ]
    },
    {
      "cell_type": "code",
      "source": [
        "import numpy as np\n",
        "from tensorflow.keras.datasets import cifar10\n",
        "from tensorflow.keras.models import Sequential\n",
        "from tensorflow.keras.layers import Conv2D, MaxPooling2D, Flatten, Dense, Dropout\n",
        "from tensorflow.keras.utils import to_categorical\n",
        "\n",
        "\n",
        "(X_train, y_train), (X_test, y_test) = cifar10.load_data() # Loading the cifer-10 dataset\n",
        "X_train = X_train.astype('float32') / 255.0  # normalizing the pixel values inorder reduce the computational time\n",
        "X_test = X_test.astype('float32') / 255.0\n",
        "\n",
        "y_train = to_categorical(y_train, num_classes=10) # converting the target labels onto one-hot encoded format\n",
        "y_test = to_categorical(y_test, num_classes=10)\n",
        "\n",
        "# creating a my own neural_network Architecture 1\n",
        "model = Sequential([\n",
        "    Conv2D(32, (3, 3), activation='relu', input_shape=(32, 32, 3)),\n",
        "    Conv2D(64, (3, 3), activation='relu'),\n",
        "    MaxPooling2D((2, 2)),\n",
        "    Conv2D(64, (3, 3), activation='relu'),\n",
        "    MaxPooling2D((2, 2)),\n",
        "    Flatten(),\n",
        "    Dense(128, activation='relu'),\n",
        "    Dropout(0.5),\n",
        "    Dense(10, activation='softmax')\n",
        "])\n",
        "model.compile(optimizer='adam', loss='categorical_crossentropy', metrics=['accuracy']) # compilng the model\n",
        "model.fit(X_train, y_train, epochs=20, batch_size=64, validation_split=0.2) #training the model\n",
        "test_loss, test_acc = model.evaluate(X_test, y_test) # evaluting the model\n",
        "print(\"Accuracy :\", test_acc)\n"
      ],
      "metadata": {
        "colab": {
          "base_uri": "https://localhost:8080/"
        },
        "id": "1q4lgXfkx8o1",
        "outputId": "379477f7-5728-4aa7-d530-516baf034de4"
      },
      "execution_count": 3,
      "outputs": [
        {
          "metadata": {
            "tags": null
          },
          "name": "stdout",
          "output_type": "stream",
          "text": [
            "Epoch 1/20\n",
            "625/625 [==============================] - 157s 249ms/step - loss: 1.6451 - accuracy: 0.3960 - val_loss: 1.3731 - val_accuracy: 0.5216\n",
            "Epoch 2/20\n",
            "625/625 [==============================] - 153s 245ms/step - loss: 1.2624 - accuracy: 0.5514 - val_loss: 1.0953 - val_accuracy: 0.6138\n",
            "Epoch 3/20\n",
            "625/625 [==============================] - 151s 241ms/step - loss: 1.0924 - accuracy: 0.6171 - val_loss: 1.0046 - val_accuracy: 0.6488\n",
            "Epoch 4/20\n",
            "625/625 [==============================] - 153s 244ms/step - loss: 0.9944 - accuracy: 0.6522 - val_loss: 0.8868 - val_accuracy: 0.6907\n",
            "Epoch 5/20\n",
            "625/625 [==============================] - 156s 250ms/step - loss: 0.9057 - accuracy: 0.6817 - val_loss: 0.8485 - val_accuracy: 0.7043\n",
            "Epoch 6/20\n",
            "625/625 [==============================] - 153s 246ms/step - loss: 0.8448 - accuracy: 0.7037 - val_loss: 0.8123 - val_accuracy: 0.7110\n",
            "Epoch 7/20\n",
            "625/625 [==============================] - 151s 242ms/step - loss: 0.7912 - accuracy: 0.7231 - val_loss: 0.8430 - val_accuracy: 0.7069\n",
            "Epoch 8/20\n",
            "625/625 [==============================] - 152s 244ms/step - loss: 0.7425 - accuracy: 0.7386 - val_loss: 0.7727 - val_accuracy: 0.7308\n",
            "Epoch 9/20\n",
            "625/625 [==============================] - 155s 248ms/step - loss: 0.6990 - accuracy: 0.7537 - val_loss: 0.8071 - val_accuracy: 0.7237\n",
            "Epoch 10/20\n",
            "625/625 [==============================] - 149s 239ms/step - loss: 0.6646 - accuracy: 0.7630 - val_loss: 0.7785 - val_accuracy: 0.7331\n",
            "Epoch 11/20\n",
            "625/625 [==============================] - 154s 246ms/step - loss: 0.6283 - accuracy: 0.7759 - val_loss: 0.7645 - val_accuracy: 0.7407\n",
            "Epoch 12/20\n",
            "625/625 [==============================] - 147s 235ms/step - loss: 0.5956 - accuracy: 0.7884 - val_loss: 0.7803 - val_accuracy: 0.7405\n",
            "Epoch 13/20\n",
            "625/625 [==============================] - 146s 234ms/step - loss: 0.5668 - accuracy: 0.7984 - val_loss: 0.7871 - val_accuracy: 0.7407\n",
            "Epoch 14/20\n",
            "625/625 [==============================] - 151s 242ms/step - loss: 0.5404 - accuracy: 0.8072 - val_loss: 0.8129 - val_accuracy: 0.7348\n",
            "Epoch 15/20\n",
            "625/625 [==============================] - 145s 233ms/step - loss: 0.5145 - accuracy: 0.8136 - val_loss: 0.8568 - val_accuracy: 0.7281\n",
            "Epoch 16/20\n",
            "625/625 [==============================] - 146s 234ms/step - loss: 0.5002 - accuracy: 0.8191 - val_loss: 0.8090 - val_accuracy: 0.7346\n",
            "Epoch 17/20\n",
            "625/625 [==============================] - 151s 241ms/step - loss: 0.4712 - accuracy: 0.8291 - val_loss: 0.8354 - val_accuracy: 0.7397\n",
            "Epoch 18/20\n",
            "625/625 [==============================] - 148s 237ms/step - loss: 0.4519 - accuracy: 0.8341 - val_loss: 0.8498 - val_accuracy: 0.7376\n",
            "Epoch 19/20\n",
            "625/625 [==============================] - 147s 235ms/step - loss: 0.4378 - accuracy: 0.8378 - val_loss: 0.8971 - val_accuracy: 0.7351\n",
            "Epoch 20/20\n",
            "625/625 [==============================] - 143s 228ms/step - loss: 0.4245 - accuracy: 0.8432 - val_loss: 0.9026 - val_accuracy: 0.7410\n",
            "313/313 [==============================] - 10s 32ms/step - loss: 0.9467 - accuracy: 0.7325\n",
            "Accuracy : 0.7325000166893005\n"
          ]
        }
      ]
    },
    {
      "cell_type": "code",
      "source": [
        "from sklearn.metrics import precision_score, f1_score\n",
        "import numpy as np\n",
        "y_pred = model.predict(X_test) # predicting labels for the test data\n",
        "y_pred_classes = np.argmax(y_pred, axis=1)\n",
        "y_test_classes = np.argmax(y_test, axis=1)# converting one-hot encoded true labels to integers\n",
        "precision = precision_score(y_test_classes, y_pred_classes, average='weighted') # calculating precision and f1 score\n",
        "f1 = f1_score(y_test_classes, y_pred_classes, average='weighted')\n",
        "print(\"precision:\", precision)\n",
        "print(\"f1 Score:\", f1)\n"
      ],
      "metadata": {
        "colab": {
          "base_uri": "https://localhost:8080/"
        },
        "id": "GqklzZkYKlwd",
        "outputId": "3468ec37-4d93-4466-9306-a745bf5ea225"
      },
      "execution_count": 9,
      "outputs": [
        {
          "output_type": "stream",
          "name": "stdout",
          "text": [
            "313/313 [==============================] - 12s 39ms/step\n",
            "precision: 0.7339728908721088\n",
            "f1 Score: 0.731078916622436\n"
          ]
        }
      ]
    },
    {
      "cell_type": "code",
      "source": [
        "#building the neural_network Architecture 2\n",
        "model_2 = Sequential([\n",
        "    Conv2D(32, (3, 3), activation='relu', padding='same', input_shape=(32, 32, 3)),\n",
        "    MaxPooling2D((2, 2)),\n",
        "    Conv2D(64, (3, 3), activation='relu', padding='same'),\n",
        "    MaxPooling2D((2, 2)),\n",
        "    Flatten(),\n",
        "    Dense(256, activation='relu'),\n",
        "    Dense(128, activation='relu'),\n",
        "    Dense(64, activation='relu'),\n",
        "    Dense(10, activation='softmax')\n",
        "])\n",
        "model_2.compile(optimizer='adam', loss='categorical_crossentropy', metrics=['accuracy']) # compiling the model\n",
        "model_2.fit(X_train, y_train, epochs=20, batch_size=64, validation_split=0.2)# training the model\n",
        "test_loss, test_acc = model_2.evaluate(X_test, y_test) # evaluting the model\n",
        "print(\"Accuracy of Model 2 on test set:\", test_acc)"
      ],
      "metadata": {
        "colab": {
          "base_uri": "https://localhost:8080/"
        },
        "id": "eNQMnaowJHdy",
        "outputId": "1f5735bc-b596-4f75-d509-478df7e9d0e9"
      },
      "execution_count": 5,
      "outputs": [
        {
          "output_type": "stream",
          "name": "stdout",
          "text": [
            "Epoch 1/20\n",
            "625/625 [==============================] - 86s 132ms/step - loss: 1.5012 - accuracy: 0.4476 - val_loss: 1.2514 - val_accuracy: 0.5527\n",
            "Epoch 2/20\n",
            "625/625 [==============================] - 75s 120ms/step - loss: 1.0644 - accuracy: 0.6238 - val_loss: 1.0782 - val_accuracy: 0.6169\n",
            "Epoch 3/20\n",
            "625/625 [==============================] - 74s 118ms/step - loss: 0.8932 - accuracy: 0.6850 - val_loss: 0.9688 - val_accuracy: 0.6592\n",
            "Epoch 4/20\n",
            "625/625 [==============================] - 77s 123ms/step - loss: 0.7684 - accuracy: 0.7266 - val_loss: 0.8874 - val_accuracy: 0.6885\n",
            "Epoch 5/20\n",
            "625/625 [==============================] - 75s 120ms/step - loss: 0.6609 - accuracy: 0.7669 - val_loss: 0.8738 - val_accuracy: 0.7008\n",
            "Epoch 6/20\n",
            "625/625 [==============================] - 76s 122ms/step - loss: 0.5567 - accuracy: 0.8048 - val_loss: 0.9268 - val_accuracy: 0.6971\n",
            "Epoch 7/20\n",
            "625/625 [==============================] - 75s 119ms/step - loss: 0.4571 - accuracy: 0.8388 - val_loss: 1.0051 - val_accuracy: 0.6954\n",
            "Epoch 8/20\n",
            "625/625 [==============================] - 79s 126ms/step - loss: 0.3636 - accuracy: 0.8729 - val_loss: 1.0681 - val_accuracy: 0.6939\n",
            "Epoch 9/20\n",
            "625/625 [==============================] - 72s 116ms/step - loss: 0.3027 - accuracy: 0.8928 - val_loss: 1.0982 - val_accuracy: 0.7040\n",
            "Epoch 10/20\n",
            "625/625 [==============================] - 72s 115ms/step - loss: 0.2427 - accuracy: 0.9155 - val_loss: 1.2399 - val_accuracy: 0.7008\n",
            "Epoch 11/20\n",
            "625/625 [==============================] - 72s 116ms/step - loss: 0.1835 - accuracy: 0.9359 - val_loss: 1.3636 - val_accuracy: 0.6971\n",
            "Epoch 12/20\n",
            "625/625 [==============================] - 71s 114ms/step - loss: 0.1513 - accuracy: 0.9470 - val_loss: 1.4510 - val_accuracy: 0.7025\n",
            "Epoch 13/20\n",
            "625/625 [==============================] - 73s 117ms/step - loss: 0.1384 - accuracy: 0.9525 - val_loss: 1.5762 - val_accuracy: 0.6945\n",
            "Epoch 14/20\n",
            "625/625 [==============================] - 73s 117ms/step - loss: 0.1164 - accuracy: 0.9586 - val_loss: 1.8676 - val_accuracy: 0.6867\n",
            "Epoch 15/20\n",
            "625/625 [==============================] - 72s 115ms/step - loss: 0.1156 - accuracy: 0.9604 - val_loss: 1.8786 - val_accuracy: 0.6808\n",
            "Epoch 16/20\n",
            "625/625 [==============================] - 75s 121ms/step - loss: 0.0954 - accuracy: 0.9668 - val_loss: 1.9423 - val_accuracy: 0.6892\n",
            "Epoch 17/20\n",
            "625/625 [==============================] - 74s 118ms/step - loss: 0.0848 - accuracy: 0.9707 - val_loss: 1.8455 - val_accuracy: 0.6902\n",
            "Epoch 18/20\n",
            "625/625 [==============================] - 72s 116ms/step - loss: 0.0936 - accuracy: 0.9679 - val_loss: 1.9988 - val_accuracy: 0.6729\n",
            "Epoch 19/20\n",
            "625/625 [==============================] - 75s 120ms/step - loss: 0.0746 - accuracy: 0.9746 - val_loss: 2.1992 - val_accuracy: 0.6850\n",
            "Epoch 20/20\n",
            "625/625 [==============================] - 73s 116ms/step - loss: 0.0697 - accuracy: 0.9767 - val_loss: 2.0864 - val_accuracy: 0.6855\n",
            "313/313 [==============================] - 5s 16ms/step - loss: 2.1083 - accuracy: 0.6782\n",
            "Accuracy of Model 2 on test set: 0.6782000064849854\n"
          ]
        }
      ]
    },
    {
      "cell_type": "code",
      "source": [
        "from sklearn.metrics import precision_score, f1_score\n",
        "import numpy as np\n",
        "y_pred = model.predict(X_test) # predicting labels for the test data\n",
        "y_pred_classes = np.argmax(y_pred, axis=1)\n",
        "y_test_classes = np.argmax(y_test, axis=1)# converting one-hot encoded true labels to integers\n",
        "precision = precision_score(y_test_classes, y_pred_classes, average='weighted') # calculating precision and f1 score\n",
        "f1 = f1_score(y_test_classes, y_pred_classes, average='weighted')\n",
        "print(\"precision:\", precision)\n",
        "print(\"f1 Score:\", f1)"
      ],
      "metadata": {
        "id": "8XDot_nS3GmQ",
        "outputId": "83bf7dbd-fbb9-4d51-8ca8-73e6b9de0beb",
        "colab": {
          "base_uri": "https://localhost:8080/"
        }
      },
      "execution_count": 8,
      "outputs": [
        {
          "output_type": "stream",
          "name": "stdout",
          "text": [
            "313/313 [==============================] - 19s 60ms/step\n",
            "precision: 0.7339728908721088\n",
            "f1 Score: 0.731078916622436\n"
          ]
        }
      ]
    },
    {
      "cell_type": "code",
      "source": [],
      "metadata": {
        "id": "7FLLYdJgQPdV"
      },
      "execution_count": null,
      "outputs": []
    }
  ]
}